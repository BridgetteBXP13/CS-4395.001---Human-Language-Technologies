{
  "nbformat": 4,
  "nbformat_minor": 0,
  "metadata": {
    "colab": {
      "provenance": [],
      "authorship_tag": "ABX9TyOOThZA5bOGA4r4WhlBTLKe",
      "include_colab_link": true
    },
    "kernelspec": {
      "name": "python3",
      "display_name": "Python 3"
    },
    "language_info": {
      "name": "python"
    },
    "accelerator": "GPU",
    "gpuClass": "standard"
  },
  "cells": [
    {
      "cell_type": "markdown",
      "metadata": {
        "id": "view-in-github",
        "colab_type": "text"
      },
      "source": [
        "<a href=\"https://colab.research.google.com/github/BridgetteBXP13/CS-4395.001---Human-Language-Technologies/blob/main/Text%20Classification/TextClassification.ipynb\" target=\"_parent\"><img src=\"https://colab.research.google.com/assets/colab-badge.svg\" alt=\"Open In Colab\"/></a>"
      ]
    },
    {
      "cell_type": "markdown",
      "source": [
        "# Text Classification\n",
        "\n",
        "In this notebook we decided to do text classification for job postings, based on details within the job postings description, salary, location, etc. We will classify the job posting as likely to be real or fake. This dataset can be found [here](https://www.kaggle.com/datasets/shivamb/real-or-fake-fake-jobposting-prediction) on Kaggle."
      ],
      "metadata": {
        "id": "TzELOMgXrHmD"
      }
    },
    {
      "cell_type": "markdown",
      "source": [
        "## Importing Our Dataset\n",
        "\n",
        "Here we simply have to import pandas and use it's prewritten functions to read our .csv dataset into a pandas dataframe. Our dataset was from kaggle but I also stored it [here on Github](https://github.com/BridgetteBXP13/CS-4395.001---Human-Language-Technologies/blob/main/Text%20Classification/fake_job_postings.csv)."
      ],
      "metadata": {
        "id": "Yv7Sm6a1BWPY"
      }
    },
    {
      "cell_type": "code",
      "execution_count": 7,
      "metadata": {
        "id": "Gn1F78NFq2xj",
        "colab": {
          "base_uri": "https://localhost:8080/",
          "height": 556
        },
        "outputId": "e9cc507a-1daa-48ed-9c6a-0e6125049256"
      },
      "outputs": [
        {
          "output_type": "execute_result",
          "data": {
            "text/plain": [
              "   job_id                                      title            location  \\\n",
              "0       1                           Marketing Intern    US, NY, New York   \n",
              "1       2  Customer Service - Cloud Video Production      NZ, , Auckland   \n",
              "2       3    Commissioning Machinery Assistant (CMA)       US, IA, Wever   \n",
              "3       4          Account Executive - Washington DC  US, DC, Washington   \n",
              "4       5                        Bill Review Manager  US, FL, Fort Worth   \n",
              "\n",
              "  department salary_range                                    company_profile  \\\n",
              "0  Marketing          NaN  We're Food52, and we've created a groundbreaki...   \n",
              "1    Success          NaN  90 Seconds, the worlds Cloud Video Production ...   \n",
              "2        NaN          NaN  Valor Services provides Workforce Solutions th...   \n",
              "3      Sales          NaN  Our passion for improving quality of life thro...   \n",
              "4        NaN          NaN  SpotSource Solutions LLC is a Global Human Cap...   \n",
              "\n",
              "                                         description  \\\n",
              "0  Food52, a fast-growing, James Beard Award-winn...   \n",
              "1  Organised - Focused - Vibrant - Awesome!Do you...   \n",
              "2  Our client, located in Houston, is actively se...   \n",
              "3  THE COMPANY: ESRI – Environmental Systems Rese...   \n",
              "4  JOB TITLE: Itemization Review ManagerLOCATION:...   \n",
              "\n",
              "                                        requirements  \\\n",
              "0  Experience with content management systems a m...   \n",
              "1  What we expect from you:Your key responsibilit...   \n",
              "2  Implement pre-commissioning and commissioning ...   \n",
              "3  EDUCATION: Bachelor’s or Master’s in GIS, busi...   \n",
              "4  QUALIFICATIONS:RN license in the State of Texa...   \n",
              "\n",
              "                                            benefits  telecommuting  \\\n",
              "0                                                NaN              0   \n",
              "1  What you will get from usThrough being part of...              0   \n",
              "2                                                NaN              0   \n",
              "3  Our culture is anything but corporate—we have ...              0   \n",
              "4                              Full Benefits Offered              0   \n",
              "\n",
              "   has_company_logo  has_questions employment_type required_experience  \\\n",
              "0                 1              0           Other          Internship   \n",
              "1                 1              0       Full-time      Not Applicable   \n",
              "2                 1              0             NaN                 NaN   \n",
              "3                 1              0       Full-time    Mid-Senior level   \n",
              "4                 1              1       Full-time    Mid-Senior level   \n",
              "\n",
              "  required_education                   industry              function  \\\n",
              "0                NaN                        NaN             Marketing   \n",
              "1                NaN  Marketing and Advertising      Customer Service   \n",
              "2                NaN                        NaN                   NaN   \n",
              "3  Bachelor's Degree          Computer Software                 Sales   \n",
              "4  Bachelor's Degree     Hospital & Health Care  Health Care Provider   \n",
              "\n",
              "   fraudulent  \n",
              "0           0  \n",
              "1           0  \n",
              "2           0  \n",
              "3           0  \n",
              "4           0  "
            ],
            "text/html": [
              "<div>\n",
              "<style scoped>\n",
              "    .dataframe tbody tr th:only-of-type {\n",
              "        vertical-align: middle;\n",
              "    }\n",
              "\n",
              "    .dataframe tbody tr th {\n",
              "        vertical-align: top;\n",
              "    }\n",
              "\n",
              "    .dataframe thead th {\n",
              "        text-align: right;\n",
              "    }\n",
              "</style>\n",
              "<table border=\"1\" class=\"dataframe\">\n",
              "  <thead>\n",
              "    <tr style=\"text-align: right;\">\n",
              "      <th></th>\n",
              "      <th>job_id</th>\n",
              "      <th>title</th>\n",
              "      <th>location</th>\n",
              "      <th>department</th>\n",
              "      <th>salary_range</th>\n",
              "      <th>company_profile</th>\n",
              "      <th>description</th>\n",
              "      <th>requirements</th>\n",
              "      <th>benefits</th>\n",
              "      <th>telecommuting</th>\n",
              "      <th>has_company_logo</th>\n",
              "      <th>has_questions</th>\n",
              "      <th>employment_type</th>\n",
              "      <th>required_experience</th>\n",
              "      <th>required_education</th>\n",
              "      <th>industry</th>\n",
              "      <th>function</th>\n",
              "      <th>fraudulent</th>\n",
              "    </tr>\n",
              "  </thead>\n",
              "  <tbody>\n",
              "    <tr>\n",
              "      <th>0</th>\n",
              "      <td>1</td>\n",
              "      <td>Marketing Intern</td>\n",
              "      <td>US, NY, New York</td>\n",
              "      <td>Marketing</td>\n",
              "      <td>NaN</td>\n",
              "      <td>We're Food52, and we've created a groundbreaki...</td>\n",
              "      <td>Food52, a fast-growing, James Beard Award-winn...</td>\n",
              "      <td>Experience with content management systems a m...</td>\n",
              "      <td>NaN</td>\n",
              "      <td>0</td>\n",
              "      <td>1</td>\n",
              "      <td>0</td>\n",
              "      <td>Other</td>\n",
              "      <td>Internship</td>\n",
              "      <td>NaN</td>\n",
              "      <td>NaN</td>\n",
              "      <td>Marketing</td>\n",
              "      <td>0</td>\n",
              "    </tr>\n",
              "    <tr>\n",
              "      <th>1</th>\n",
              "      <td>2</td>\n",
              "      <td>Customer Service - Cloud Video Production</td>\n",
              "      <td>NZ, , Auckland</td>\n",
              "      <td>Success</td>\n",
              "      <td>NaN</td>\n",
              "      <td>90 Seconds, the worlds Cloud Video Production ...</td>\n",
              "      <td>Organised - Focused - Vibrant - Awesome!Do you...</td>\n",
              "      <td>What we expect from you:Your key responsibilit...</td>\n",
              "      <td>What you will get from usThrough being part of...</td>\n",
              "      <td>0</td>\n",
              "      <td>1</td>\n",
              "      <td>0</td>\n",
              "      <td>Full-time</td>\n",
              "      <td>Not Applicable</td>\n",
              "      <td>NaN</td>\n",
              "      <td>Marketing and Advertising</td>\n",
              "      <td>Customer Service</td>\n",
              "      <td>0</td>\n",
              "    </tr>\n",
              "    <tr>\n",
              "      <th>2</th>\n",
              "      <td>3</td>\n",
              "      <td>Commissioning Machinery Assistant (CMA)</td>\n",
              "      <td>US, IA, Wever</td>\n",
              "      <td>NaN</td>\n",
              "      <td>NaN</td>\n",
              "      <td>Valor Services provides Workforce Solutions th...</td>\n",
              "      <td>Our client, located in Houston, is actively se...</td>\n",
              "      <td>Implement pre-commissioning and commissioning ...</td>\n",
              "      <td>NaN</td>\n",
              "      <td>0</td>\n",
              "      <td>1</td>\n",
              "      <td>0</td>\n",
              "      <td>NaN</td>\n",
              "      <td>NaN</td>\n",
              "      <td>NaN</td>\n",
              "      <td>NaN</td>\n",
              "      <td>NaN</td>\n",
              "      <td>0</td>\n",
              "    </tr>\n",
              "    <tr>\n",
              "      <th>3</th>\n",
              "      <td>4</td>\n",
              "      <td>Account Executive - Washington DC</td>\n",
              "      <td>US, DC, Washington</td>\n",
              "      <td>Sales</td>\n",
              "      <td>NaN</td>\n",
              "      <td>Our passion for improving quality of life thro...</td>\n",
              "      <td>THE COMPANY: ESRI – Environmental Systems Rese...</td>\n",
              "      <td>EDUCATION: Bachelor’s or Master’s in GIS, busi...</td>\n",
              "      <td>Our culture is anything but corporate—we have ...</td>\n",
              "      <td>0</td>\n",
              "      <td>1</td>\n",
              "      <td>0</td>\n",
              "      <td>Full-time</td>\n",
              "      <td>Mid-Senior level</td>\n",
              "      <td>Bachelor's Degree</td>\n",
              "      <td>Computer Software</td>\n",
              "      <td>Sales</td>\n",
              "      <td>0</td>\n",
              "    </tr>\n",
              "    <tr>\n",
              "      <th>4</th>\n",
              "      <td>5</td>\n",
              "      <td>Bill Review Manager</td>\n",
              "      <td>US, FL, Fort Worth</td>\n",
              "      <td>NaN</td>\n",
              "      <td>NaN</td>\n",
              "      <td>SpotSource Solutions LLC is a Global Human Cap...</td>\n",
              "      <td>JOB TITLE: Itemization Review ManagerLOCATION:...</td>\n",
              "      <td>QUALIFICATIONS:RN license in the State of Texa...</td>\n",
              "      <td>Full Benefits Offered</td>\n",
              "      <td>0</td>\n",
              "      <td>1</td>\n",
              "      <td>1</td>\n",
              "      <td>Full-time</td>\n",
              "      <td>Mid-Senior level</td>\n",
              "      <td>Bachelor's Degree</td>\n",
              "      <td>Hospital &amp; Health Care</td>\n",
              "      <td>Health Care Provider</td>\n",
              "      <td>0</td>\n",
              "    </tr>\n",
              "  </tbody>\n",
              "</table>\n",
              "</div>"
            ]
          },
          "metadata": {},
          "execution_count": 7
        }
      ],
      "source": [
        "# Importing pandas\n",
        "import pandas as pd\n",
        "# Reading in the data from csv from Github\n",
        "url = 'https://raw.githubusercontent.com/BridgetteBXP13/CS-4395.001---Human-Language-Technologies/main/Text%20Classification/fake_job_postings.csv'\n",
        "df = pd.read_csv(url)\n",
        "df.head()"
      ]
    },
    {
      "cell_type": "markdown",
      "source": [
        "## Graphing our Categories\n",
        "\n",
        "Here we used pandas .hist() function to create a histogram. Then I customized it to make it took a bit nicer using ax, which is the axe object from MatPlotLib"
      ],
      "metadata": {
        "id": "BO25cWO1J1FP"
      }
    },
    {
      "cell_type": "code",
      "source": [
        "# Graphs Showing Distribution\n",
        "ax = df.hist(column='fraudulent', bins=2, grid=False, figsize=(12,8),\n",
        "             color='#526CFF', zorder=2, rwidth=.9)\n",
        "ax = ax[0]\n",
        "\n",
        "for x in ax:\n",
        "\n",
        "  # Despine\n",
        "  x.spines['right'].set_visible(False)\n",
        "  x.spines['top'].set_visible(False)\n",
        "  x.spines['left'].set_visible(False)\n",
        "\n",
        "  # Switch off ticks\n",
        "  x.tick_params(axis='both', which='both', bottom=False, top=False, \n",
        "                labelbottom=False, left=False, right=False, labelleft=True)\n",
        "  \n",
        "  # Draw horizontal axis lines\n",
        "  x.set_yticks((0, 2500, 5000, 7500, 10000, 12500, 15000, 17500))\n",
        "  vals = x.get_yticks()\n",
        "  for tick in vals:\n",
        "    x.axhline(y=tick, linestyle='solid', alpha=None, color='#BDC7FF', zorder=1)\n",
        "\n",
        "  # Remove title\n",
        "  x.set_title(\"\")\n",
        "\n",
        "  # Set x-axis label\n",
        "  x.set_xlabel(\"Not Fraudulent                                                          Fraudulent\",\n",
        "               labelpad=20, weight='bold', size=12)\n",
        "\n",
        "  # Set y-axis label\n",
        "  x.set_ylabel(\"Number of Examples\")"
      ],
      "metadata": {
        "id": "QtA0mvYd2oB5",
        "colab": {
          "base_uri": "https://localhost:8080/",
          "height": 435
        },
        "outputId": "bab11341-6f93-4673-f43c-7c60364bab40"
      },
      "execution_count": 8,
      "outputs": [
        {
          "output_type": "display_data",
          "data": {
            "text/plain": [
              "<Figure size 1200x800 with 1 Axes>"
            ],
            "image/png": "[encoded data removed]"
          },
          "metadata": {}
        }
      ]
    },
    {
      "cell_type": "markdown",
      "source": [
        "## About our Data\n",
        "\n",
        "Our dataset is designed to predict whether a job post is real (not fraudulent) or fake (fraudulent). For our purposes we will focus on the descriptions for text classification. Also many of the other columns have many missing values. As you can see from the graph above, there is a huge amount of real (not fraudulent) compared to fake (fraudulent). This is likely because most fake (fraudulent) job postings are taken down and are generally less common. Which makes them more difficult to collect. Having a large gap between our categories will pose a few challenges creating an accurate model.\n",
        "\n",
        "This dataset can be found [here](https://www.kaggle.com/datasets/shivamb/real-or-fake-fake-jobposting-prediction) on Kaggle."
      ],
      "metadata": {
        "id": "WbGdXaDi8NYq"
      }
    },
    {
      "cell_type": "markdown",
      "source": [
        "## Preparing Our Data\n",
        "\n",
        "### Splitting into Train, Test and Validate\n",
        "\n",
        "Here we use sklearn's train, test, and split function to create our train, test, and validate sets. To do this we first get the train and validate. Then we use the train data and use the function on it again to get our updated train and test. This way we get our validation, train, and test.\n",
        "\n",
        "### Vectorization\n",
        "\n",
        "Here we have to vectorize our data because our models will not take text directly as input. So we have to change our raw text into vectorized numbers to be model friendly. To do this we wrote a simple function to create a matrix given the shape and of specific shape."
      ],
      "metadata": {
        "id": "82GRz5cYLEMm"
      }
    },
    {
      "cell_type": "code",
      "source": [
        "# some necessary packages\n",
        "import numpy as np\n",
        "import tensorflow as tf\n",
        "from tensorflow.keras.preprocessing.text import Tokenizer\n",
        "from tensorflow.keras import layers, models\n",
        "from sklearn.preprocessing import LabelEncoder\n",
        "\n",
        "df = df[['description', 'fraudulent']]\n",
        "\n",
        "df.description = df.description.astype('str')\n",
        "df.fraudulent = df.fraudulent.astype('category')\n",
        "\n",
        "print(df.head())\n",
        "\n",
        "np.random.seed(1234)\n",
        "i = np.random.rand(len(df)) < 0.8\n",
        "j = np.random.rand(len(df)) < 0.8\n",
        "train = df[i]\n",
        "test = df[~i]\n",
        "print(\"train data size: \", train.shape)\n",
        "print(\"test data size: \", test.shape)\n",
        "\n",
        "# set up X and Y\n",
        "num_labels = 2\n",
        "vocab_size = 25000\n",
        "batch_size = 100\n",
        "\n",
        "# fit the tokenizer on the training data\n",
        "tokenizer = Tokenizer(num_words=vocab_size)\n",
        "tokenizer.fit_on_texts(train.description)\n",
        "\n",
        "x_train = tokenizer.texts_to_matrix(train.description, mode='tfidf')\n",
        "x_test = tokenizer.texts_to_matrix(test.description, mode='tfidf')\n",
        "\n",
        "encoder = LabelEncoder()\n",
        "encoder.fit(train.fraudulent)\n",
        "y_train = encoder.transform(train.fraudulent)\n",
        "y_test = encoder.transform(test.fraudulent)\n",
        "\n",
        "# check shape\n",
        "print(\"train shapes:\", x_train.shape, y_train.shape)\n",
        "print(\"test shapes:\", x_test.shape, y_test.shape)\n",
        "print(\"test first five labels:\", y_test[:5])"
      ],
      "metadata": {
        "id": "h-S8BJi7jX2U",
        "colab": {
          "base_uri": "https://localhost:8080/"
        },
        "outputId": "5954134f-5fed-40e4-911e-0fb14fbd9c95"
      },
      "execution_count": 9,
      "outputs": [
        {
          "output_type": "stream",
          "name": "stdout",
          "text": [
            "                                         description fraudulent\n",
            "0  Food52, a fast-growing, James Beard Award-winn...          0\n",
            "1  Organised - Focused - Vibrant - Awesome!Do you...          0\n",
            "2  Our client, located in Houston, is actively se...          0\n",
            "3  THE COMPANY: ESRI – Environmental Systems Rese...          0\n",
            "4  JOB TITLE: Itemization Review ManagerLOCATION:...          0\n",
            "train data size:  (14342, 2)\n",
            "test data size:  (3538, 2)\n",
            "train shapes: (14342, 25000) (14342,)\n",
            "test shapes: (3538, 25000) (3538,)\n",
            "test first five labels: [0 0 0 0 0]\n"
          ]
        }
      ]
    },
    {
      "cell_type": "markdown",
      "source": [
        "## Sequential Model\n",
        "\n",
        "### Creating our Sequential Model\n",
        "\n",
        "This model was created using Tensorflow's keras by getting a Sequential model object. Then we add multiple layers sequentially. (Hense the name Sequential)"
      ],
      "metadata": {
        "id": "P_NGooY0L8XQ"
      }
    },
    {
      "cell_type": "code",
      "source": [
        "model = models.Sequential()\n",
        "model.add(layers.Dense(16, activation='relu'))\n",
        "model.add(layers.Dense(16, activation='relu'))\n",
        "model.add(layers.Dense(1, activation='sigmoid'))"
      ],
      "metadata": {
        "id": "PrRKw9S9wd3w"
      },
      "execution_count": 10,
      "outputs": []
    },
    {
      "cell_type": "markdown",
      "source": [
        "### Compile our Sequential Model\n",
        "\n",
        "Then we simply use the compile the model using the compile funcion with given optimizer, loss, and metrics."
      ],
      "metadata": {
        "id": "yFO9JeIhMayT"
      }
    },
    {
      "cell_type": "code",
      "source": [
        "model.compile(optimizer='adam',\n",
        "              loss='binary_crossentropy',\n",
        "              metrics=['accuracy'])"
      ],
      "metadata": {
        "id": "xHRvcbcB21bx"
      },
      "execution_count": 11,
      "outputs": []
    },
    {
      "cell_type": "markdown",
      "source": [
        "### Training our Sequential Model\n",
        "\n",
        "We train our model using the .fit function giving it our train and validation data. We have to specify the batch size and number of epochs we want. Typically you can play with these numbers to adjust them for higher accuracy and to avoid underfitting/overfitting."
      ],
      "metadata": {
        "id": "JtRVihRlM2ia"
      }
    },
    {
      "cell_type": "code",
      "source": [
        "history = model.fit(x_train, \n",
        "                    y_train, \n",
        "                    epochs=20, \n",
        "                    batch_size=batch_size, \n",
        "                    verbose=1, \n",
        "                    validation_split=.1)"
      ],
      "metadata": {
        "id": "R0uUUa5ZNOVn",
        "colab": {
          "base_uri": "https://localhost:8080/"
        },
        "outputId": "d7ac9661-93d0-41b5-b50b-a7bea88b7ed7"
      },
      "execution_count": 12,
      "outputs": [
        {
          "output_type": "stream",
          "name": "stdout",
          "text": [
            "Epoch 1/20\n",
            "130/130 [==============================] - 1s 8ms/step - loss: 0.2040 - accuracy: 0.9468 - val_loss: 0.4171 - val_accuracy: 0.8105\n",
            "Epoch 2/20\n",
            "130/130 [==============================] - 1s 6ms/step - loss: 0.0658 - accuracy: 0.9765 - val_loss: 0.3833 - val_accuracy: 0.8718\n",
            "Epoch 3/20\n",
            "130/130 [==============================] - 1s 6ms/step - loss: 0.0237 - accuracy: 0.9933 - val_loss: 0.4789 - val_accuracy: 0.8941\n",
            "Epoch 4/20\n",
            "130/130 [==============================] - 1s 6ms/step - loss: 0.0079 - accuracy: 0.9988 - val_loss: 0.5370 - val_accuracy: 0.8934\n",
            "Epoch 5/20\n",
            "130/130 [==============================] - 1s 7ms/step - loss: 0.0052 - accuracy: 0.9991 - val_loss: 0.6400 - val_accuracy: 0.8976\n",
            "Epoch 6/20\n",
            "130/130 [==============================] - 1s 6ms/step - loss: 0.0042 - accuracy: 0.9991 - val_loss: 0.7462 - val_accuracy: 0.8948\n",
            "Epoch 7/20\n",
            "130/130 [==============================] - 1s 7ms/step - loss: 0.0023 - accuracy: 0.9995 - val_loss: 0.7958 - val_accuracy: 0.8955\n",
            "Epoch 8/20\n",
            "130/130 [==============================] - 1s 7ms/step - loss: 0.0018 - accuracy: 0.9995 - val_loss: 0.8782 - val_accuracy: 0.8990\n",
            "Epoch 9/20\n",
            "130/130 [==============================] - 1s 7ms/step - loss: 0.0018 - accuracy: 0.9996 - val_loss: 0.8486 - val_accuracy: 0.8969\n",
            "Epoch 10/20\n",
            "130/130 [==============================] - 1s 7ms/step - loss: 0.0012 - accuracy: 0.9996 - val_loss: 0.9138 - val_accuracy: 0.8997\n",
            "Epoch 11/20\n",
            "130/130 [==============================] - 1s 7ms/step - loss: 0.0011 - accuracy: 0.9997 - val_loss: 0.9306 - val_accuracy: 0.8969\n",
            "Epoch 12/20\n",
            "130/130 [==============================] - 1s 7ms/step - loss: 9.2875e-04 - accuracy: 0.9998 - val_loss: 0.9916 - val_accuracy: 0.8976\n",
            "Epoch 13/20\n",
            "130/130 [==============================] - 1s 7ms/step - loss: 0.0011 - accuracy: 0.9995 - val_loss: 1.0826 - val_accuracy: 0.8990\n",
            "Epoch 14/20\n",
            "130/130 [==============================] - 1s 7ms/step - loss: 8.0516e-04 - accuracy: 0.9997 - val_loss: 1.0611 - val_accuracy: 0.8976\n",
            "Epoch 15/20\n",
            "130/130 [==============================] - 1s 6ms/step - loss: 6.5226e-04 - accuracy: 0.9998 - val_loss: 1.0463 - val_accuracy: 0.8983\n",
            "Epoch 16/20\n",
            "130/130 [==============================] - 1s 6ms/step - loss: 5.8357e-04 - accuracy: 0.9998 - val_loss: 1.1023 - val_accuracy: 0.8983\n",
            "Epoch 17/20\n",
            "130/130 [==============================] - 1s 7ms/step - loss: 5.2604e-04 - accuracy: 0.9999 - val_loss: 1.1416 - val_accuracy: 0.8997\n",
            "Epoch 18/20\n",
            "130/130 [==============================] - 1s 7ms/step - loss: 4.7843e-04 - accuracy: 0.9999 - val_loss: 1.1818 - val_accuracy: 0.8997\n",
            "Epoch 19/20\n",
            "130/130 [==============================] - 1s 7ms/step - loss: 4.4264e-04 - accuracy: 0.9999 - val_loss: 1.2144 - val_accuracy: 0.8997\n",
            "Epoch 20/20\n",
            "130/130 [==============================] - 1s 6ms/step - loss: 4.1259e-04 - accuracy: 0.9999 - val_loss: 1.2465 - val_accuracy: 0.8990\n"
          ]
        }
      ]
    },
    {
      "cell_type": "markdown",
      "source": [
        "### Evaluating on our Model\n",
        "\n",
        "While the code above can show our accuracy and loss while we trained for both our train and validation data. We must test it on our test data to check if our model can generalize well. We do this by using the evaluate function and passing it our test data we set aside earlier."
      ],
      "metadata": {
        "id": "gOlhw6DiPVyG"
      }
    },
    {
      "cell_type": "code",
      "source": [
        "score = model.evaluate(x_test, y_test, batch_size=batch_size, verbose=1)\n",
        "print('Accuracy: ', score[1])"
      ],
      "metadata": {
        "id": "cbT0DKyCoGq9",
        "colab": {
          "base_uri": "https://localhost:8080/"
        },
        "outputId": "b416b9f3-30b5-447d-ebf7-1793f31d3d9a"
      },
      "execution_count": 13,
      "outputs": [
        {
          "output_type": "stream",
          "name": "stdout",
          "text": [
            "36/36 [==============================] - 0s 3ms/step - loss: 0.2144 - accuracy: 0.9813\n",
            "Accuracy:  0.9813454151153564\n"
          ]
        }
      ]
    },
    {
      "cell_type": "markdown",
      "source": [
        "### Evaluating with More Metrics\n",
        "\n",
        "Below we can take the direct probabilities and predictions our model made on the test data. With these we can utilize sklearn's metrics to print our confusion matrix and classification report which highlight how well our model did. Below you can see it has very good sensitivity (detecting that it is not fraud) but not as good specificity (detecting when it is exactly fraud). This was expected and not suprising because of how limited examples our data had for fraudlent aka fake jobs shown by the graph above."
      ],
      "metadata": {
        "id": "SqmkECY2Puek"
      }
    },
    {
      "cell_type": "code",
      "source": [
        "# get predictions so we can calculate more metrics\n",
        "pred = model.predict(x_test)\n",
        "pred_labels = [1 if p>0.5 else 0 for p in pred]\n",
        "\n",
        "from sklearn.metrics import confusion_matrix, classification_report\n",
        "print(\"\\nResults on testing data:\\n\")\n",
        "print(\"Confusion Matrix\")\n",
        "print(confusion_matrix(y_test, pred_labels))\n",
        "print(\"Classification Report:\")\n",
        "print(classification_report(y_test, pred_labels))\n"
      ],
      "metadata": {
        "id": "MWntEnaJoPRh",
        "colab": {
          "base_uri": "https://localhost:8080/"
        },
        "outputId": "09a16c0d-42d2-4d69-ece6-c0ce4f348a67"
      },
      "execution_count": 14,
      "outputs": [
        {
          "output_type": "stream",
          "name": "stdout",
          "text": [
            "111/111 [==============================] - 0s 1ms/step\n",
            "\n",
            "Results on testing data:\n",
            "\n",
            "Confusion Matrix\n",
            "[[3375   10]\n",
            " [  56   97]]\n",
            "Classification Report:\n",
            "              precision    recall  f1-score   support\n",
            "\n",
            "           0       0.98      1.00      0.99      3385\n",
            "           1       0.91      0.63      0.75       153\n",
            "\n",
            "    accuracy                           0.98      3538\n",
            "   macro avg       0.95      0.82      0.87      3538\n",
            "weighted avg       0.98      0.98      0.98      3538\n",
            "\n"
          ]
        }
      ]
    },
    {
      "cell_type": "markdown",
      "source": [
        "## RNN\n",
        "\n",
        "RNN are Recurrent Neural Networks and are more complext than the base sequential models such as the one above. There are many different types of RNN and they are usually focused for sequential or time series data. They are often used for stock market prediction, machine translation, and text generation. RNN does this by saving the output of a particular layer and feeding it back to the input to predict the output."
      ],
      "metadata": {
        "id": "--QwlkKkPMPg"
      }
    },
    {
      "cell_type": "markdown",
      "source": [
        "### SimpleRNN\n",
        "\n",
        "Here we build a model with sequential layers but implement embedding and SimpleRNN layers."
      ],
      "metadata": {
        "id": "W83JTtnoaB7h"
      }
    },
    {
      "cell_type": "code",
      "source": [
        "model = models.Sequential()\n",
        "model.add(layers.Embedding(10000, 32))\n",
        "model.add(layers.SimpleRNN(32))\n",
        "model.add(layers.Dense(1, activation='sigmoid'))"
      ],
      "metadata": {
        "id": "-cLQ8aqSqhft"
      },
      "execution_count": 15,
      "outputs": []
    },
    {
      "cell_type": "markdown",
      "source": [
        "This summary shows how many parameters will be in each layer. In total there will be 322,113!"
      ],
      "metadata": {
        "id": "3n8G2GhBaPsr"
      }
    },
    {
      "cell_type": "code",
      "source": [
        "model.summary()"
      ],
      "metadata": {
        "id": "mkddbwhHqjFx",
        "colab": {
          "base_uri": "https://localhost:8080/"
        },
        "outputId": "364cf103-d394-458e-b38f-769a0b72317c"
      },
      "execution_count": 16,
      "outputs": [
        {
          "output_type": "stream",
          "name": "stdout",
          "text": [
            "Model: \"sequential_1\"\n",
            "_________________________________________________________________\n",
            " Layer (type)                Output Shape              Param #   \n",
            "=================================================================\n",
            " embedding (Embedding)       (None, None, 32)          320000    \n",
            "                                                                 \n",
            " simple_rnn (SimpleRNN)      (None, 32)                2080      \n",
            "                                                                 \n",
            " dense_3 (Dense)             (None, 1)                 33        \n",
            "                                                                 \n",
            "=================================================================\n",
            "Total params: 322,113\n",
            "Trainable params: 322,113\n",
            "Non-trainable params: 0\n",
            "_________________________________________________________________\n"
          ]
        }
      ]
    },
    {
      "cell_type": "markdown",
      "source": [
        "#### Compiling our SimpleRNN\n",
        "\n",
        "Next we compile just like before! This time we are using the rmsprop optimizer, binary crossentopy for loss and accuracy for metrics."
      ],
      "metadata": {
        "id": "6wJkb9WbaXeO"
      }
    },
    {
      "cell_type": "code",
      "source": [
        "model.compile(optimizer='adam',\n",
        "              loss='binary_crossentropy',\n",
        "              metrics=['accuracy'])\n"
      ],
      "metadata": {
        "id": "odSj-XwRqkzj"
      },
      "execution_count": 21,
      "outputs": []
    },
    {
      "cell_type": "markdown",
      "source": [
        "#### Training our SimpleRNN\n",
        "\n",
        "Next we train just like before, although we have fewer epochs because it will take much longer as well as a slightly larger batch size."
      ],
      "metadata": {
        "id": "-XDgVb4AanaE"
      }
    },
    {
      "cell_type": "code",
      "source": [
        "history = model.fit(x_train,\n",
        "                    y_train,\n",
        "                    epochs=10,\n",
        "                    batch_size=128,\n",
        "                    validation_split=0.2)"
      ],
      "metadata": {
        "id": "mGZJWJKjqmwi",
        "colab": {
          "base_uri": "https://localhost:8080/"
        },
        "outputId": "ebcaac4c-887b-4410-ba58-3cb2d4cbec12"
      },
      "execution_count": null,
      "outputs": [
        {
          "output_type": "stream",
          "name": "stdout",
          "text": [
            "Epoch 1/10\n",
            "16/90 [====>.........................] - ETA: 37:27 - loss: 0.1528 - accuracy: 0.9653"
          ]
        }
      ]
    },
    {
      "cell_type": "markdown",
      "source": [
        "#### Testing and Evaluating our SimpleRNN\n",
        "\n",
        "While the code above can show our accuracy and loss while we trained for both our train and validation data. We must test it on our test data to check if our model can generalize well. We do this by using the evaluate function and passing it our test data we set aside earlier."
      ],
      "metadata": {
        "id": "yHI4irmyYJir"
      }
    },
    {
      "cell_type": "code",
      "source": [
        "from sklearn.metrics import classification_report\n",
        "\n",
        "pred = model.predict(x_test)\n",
        "pred = [1.0 if p>= 0.5 else 0.0 for p in pred]\n",
        "print(classification_report(y_test, pred))"
      ],
      "metadata": {
        "id": "L4Yt05Ufqpm2"
      },
      "execution_count": null,
      "outputs": []
    },
    {
      "cell_type": "markdown",
      "source": [
        "### LSTM\n",
        "\n",
        "Here we build a model with sequential layers but implement embedding and LSTM (Long Short-Term Memory) layers. LSTM is another type of RNN."
      ],
      "metadata": {
        "id": "_6olWlAKWDMh"
      }
    },
    {
      "cell_type": "code",
      "source": [
        "model = models.Sequential()\n",
        "model.add(layers.Embedding(max_features, 32))\n",
        "model.add(layers.LSTM(32))\n",
        "model.add(layers.Dense(1, activation='sigmoid'))"
      ],
      "metadata": {
        "id": "WVBSegJjul8I"
      },
      "execution_count": null,
      "outputs": []
    },
    {
      "cell_type": "markdown",
      "source": [
        "This summary shows how many parameters will be in each layer. In total there will be \\<AMOUNT_HERE\\>!"
      ],
      "metadata": {
        "id": "kCFCVFuIXUld"
      }
    },
    {
      "cell_type": "code",
      "source": [
        "model.summary()"
      ],
      "metadata": {
        "id": "Re2ZqkH-uopy"
      },
      "execution_count": null,
      "outputs": []
    },
    {
      "cell_type": "markdown",
      "source": [
        "#### Compiling our LSTM\n",
        "\n",
        "Next we compile just like before! We are using the adam optimizer, binary crossentopy for loss and accuracy for metrics just like for SimpleRNN."
      ],
      "metadata": {
        "id": "eXecyk8WXs6G"
      }
    },
    {
      "cell_type": "code",
      "source": [
        "model.compile(optimizer='adam',\n",
        "              loss='binary_crossentropy',\n",
        "              metrics=['accuracy'])"
      ],
      "metadata": {
        "id": "nzwBVoO2urdy"
      },
      "execution_count": null,
      "outputs": []
    },
    {
      "cell_type": "markdown",
      "source": [
        "#### Training our LSTM\n",
        "\n",
        "Next we train just like before with SimpleRNN."
      ],
      "metadata": {
        "id": "66PlL1KKX7XH"
      }
    },
    {
      "cell_type": "code",
      "source": [
        "history = model.fit(train_data,\n",
        "                    train_labels,\n",
        "                    epochs=10,\n",
        "                    batch_size=32,\n",
        "                    validation_split=0.2)"
      ],
      "metadata": {
        "id": "jz6_hi_Tuual"
      },
      "execution_count": null,
      "outputs": []
    },
    {
      "cell_type": "markdown",
      "source": [
        "#### Testing and Evaluating our LSTM\n",
        "\n",
        "While the code above can show our accuracy and loss while we trained for both our train and validation data. We must test it on our test data to check if our model can generalize well. We do this by using the evaluate function and passing it our test data we set aside earlier."
      ],
      "metadata": {
        "id": "fKSCwvx2YflJ"
      }
    },
    {
      "cell_type": "code",
      "source": [
        "pred = model.predict(test_data)\n",
        "pred = [1.0 if p>= 0.5 else 0.0 for p in pred]\n",
        "print(classification_report(test_labels, pred))"
      ],
      "metadata": {
        "id": "itgDvmkCuxBX"
      },
      "execution_count": null,
      "outputs": []
    },
    {
      "cell_type": "markdown",
      "source": [
        "### GRU\n",
        "\n",
        "Here we build a model with sequential layers but implement embedding and GRU(Gated Recurrent Unit) layers. GRU is another type of RNN."
      ],
      "metadata": {
        "id": "ERxrRnnjYkMy"
      }
    },
    {
      "cell_type": "code",
      "source": [
        "model = models.Sequential()\n",
        "model.add(layers.Embedding(max_features, 32))\n",
        "model.add(layers.GRU(32))\n",
        "model.add(layers.Dense(1, activation='sigmoid'))"
      ],
      "metadata": {
        "id": "QtHvWdQkuzNe"
      },
      "execution_count": null,
      "outputs": []
    },
    {
      "cell_type": "code",
      "source": [
        "model.compile(optimizer='adam',\n",
        "              loss='binary_crossentropy',\n",
        "              metrics=['accuracy'])"
      ],
      "metadata": {
        "id": "FnwP7-0pu3A3"
      },
      "execution_count": null,
      "outputs": []
    },
    {
      "cell_type": "code",
      "source": [
        "history = model.fit(train_data,\n",
        "                    train_labels,\n",
        "                    epochs=10,\n",
        "                    batch_size=128,\n",
        "                    validation_split=0.2)"
      ],
      "metadata": {
        "id": "T8L_cwkdu5Ue"
      },
      "execution_count": null,
      "outputs": []
    },
    {
      "cell_type": "code",
      "source": [
        "pred = model.predict(test_data)\n",
        "pred = [1.0 if p>= 0.5 else 0.0 for p in pred]\n",
        "print(classification_report(test_labels, pred))"
      ],
      "metadata": {
        "id": "PW8ZG3Q3u7_h"
      },
      "execution_count": null,
      "outputs": []
    },
    {
      "cell_type": "markdown",
      "source": [
        "## CNN"
      ],
      "metadata": {
        "id": "BGmnZRz8ZLIL"
      }
    },
    {
      "cell_type": "code",
      "source": [
        "# Try CNN\n",
        "\n",
        "# build a Sequential model 1D convnet\n",
        "\n",
        "model = models.Sequential()\n",
        "model.add(layers.Embedding(max_features, 128, input_length=maxlen)) \n",
        "model.add(layers.Conv1D(32, 7, activation='relu')) \n",
        "model.add(layers.MaxPooling1D(5)) \n",
        "model.add(layers.Conv1D(32, 7, activation='relu')) \n",
        "model.add(layers.GlobalMaxPooling1D())\n",
        "model.add(layers.Dense(1))"
      ],
      "metadata": {
        "id": "YkB73NFOwmxj"
      },
      "execution_count": null,
      "outputs": []
    },
    {
      "cell_type": "code",
      "source": [
        "model.summary()"
      ],
      "metadata": {
        "id": "gTSkIWF6vMgr"
      },
      "execution_count": null,
      "outputs": []
    },
    {
      "cell_type": "code",
      "source": [
        "# compile\n",
        "\n",
        "model.compile(optimizer='adam',  # set learning rate\n",
        "              loss='binary_crossentropy',\n",
        "              metrics=['accuracy'])"
      ],
      "metadata": {
        "id": "pe9WQiO5vM4j"
      },
      "execution_count": null,
      "outputs": []
    },
    {
      "cell_type": "code",
      "source": [
        "# train\n",
        "\n",
        "history = model.fit(train_data,\n",
        "                    train_labels,\n",
        "                    epochs=10,\n",
        "                    batch_size=128,\n",
        "                    validation_split=0.2)"
      ],
      "metadata": {
        "id": "dN0HoXOQvPlD"
      },
      "execution_count": null,
      "outputs": []
    },
    {
      "cell_type": "code",
      "source": [
        "from sklearn.metrics import classification_report\n",
        "\n",
        "pred = model.predict(test_data)\n",
        "pred = [1.0 if p>= 0.5 else 0.0 for p in pred]\n",
        "print(classification_report(test_labels, pred))"
      ],
      "metadata": {
        "id": "MSGvld5pvUBC"
      },
      "execution_count": null,
      "outputs": []
    },
    {
      "cell_type": "code",
      "source": [
        "# Try Different Embeddings (BERT, ELMo, etc HuggingFace)"
      ],
      "metadata": {
        "id": "DoI2wQzHwodT"
      },
      "execution_count": null,
      "outputs": []
    },
    {
      "cell_type": "markdown",
      "source": [
        "## Embeddings\n",
        "\n",
        "Here we will try different Embeddings, which are really just pretrained well made models which we can fine-tune for our task. The models we chose for our fake job classification is Distilbert, JobClassifier, and Job-Description-Classifier. These can be found here:\n",
        "\n",
        "[Distilbert](https://huggingface.co/distilbert-base-uncased-finetuned-sst-2-english)\n",
        "\n",
        "[JobClassifier](https://huggingface.co/CleveGreen/JobClassifier_v3_gpt)\n",
        "\n",
        "[Job-Description-Classifier](https://huggingface.co/tkuye/job-description-classifier)\n"
      ],
      "metadata": {
        "id": "5-0nwAUHfUP8"
      }
    },
    {
      "cell_type": "markdown",
      "source": [
        "### Distilbert\n",
        "\n",
        "Here we will start with Distilbert. We have to load the transformers and tokenizers used by Distilbert. We also loaded the model and the optimizer."
      ],
      "metadata": {
        "id": "yuc5f_a-hSmm"
      }
    },
    {
      "cell_type": "code",
      "source": [
        "# Import the transformers and setup our model and tokenizer\n",
        "from transformers import AutoTokenizer, AutoModelForSequenceClassification\n",
        "# Setup our tokenizer\n",
        "tokenizer = AutoTokenizer.from_pretrained(\"distilbert-base-uncased-finetuned-sst-2-english\")\n",
        "# Setup our model\n",
        "model = AutoModelForSequenceClassification.from_pretrained(\"distilbert-base-uncased-finetuned-sst-2-english\")\n",
        "# Optimizer\n",
        "optimizer = tf.keras.optimizers.Adam(learning_rate=5e-5)\n",
        "# Compile our model\n",
        "model.compile(optimizer=optimizer, loss=model.hf_comput_loss, metrics=['accuracy'])"
      ],
      "metadata": {
        "id": "7BRZle_zhkIv"
      },
      "execution_count": null,
      "outputs": []
    },
    {
      "cell_type": "markdown",
      "source": [
        "#### Prepping Our Data\n",
        "\n",
        "We have to prep our data for Distilbert specifically using it's tokenizers and convert them into the Tensorflow Dataset Objects"
      ],
      "metadata": {
        "id": "1Lag0V7fjVCo"
      }
    },
    {
      "cell_type": "code",
      "source": [
        "# Tokenizing and Encoding our input text\n",
        "train_encodings = tokenizer(X_train, truncation=True, padding=True)\n",
        "val_encodings = tokenizer(X_val, truncation=True, padding=True)\n",
        "\n",
        "# Creating our Tensorflow Dataset Objects\n",
        "train_dataset = tf.data.Dataset.from_tensor_slices((\n",
        "    dict(train_encodings),\n",
        "    train_cats\n",
        "))\n",
        "val_dataset = tf.data.Dataset.from_tensor_slices((\n",
        "    dict(val_encodings),\n",
        "    val_cats\n",
        "))"
      ],
      "metadata": {
        "id": "bsZVevcyjT08"
      },
      "execution_count": null,
      "outputs": []
    },
    {
      "cell_type": "markdown",
      "source": [
        "#### Training and Fine Tuning the Model\n",
        "\n",
        "Here we use fit just like before to fine tune the model to our data set for classifying fake and real jobs."
      ],
      "metadata": {
        "id": "XzPdnODNiuFy"
      }
    },
    {
      "cell_type": "code",
      "source": [
        "model.fit(train_dataset.shuffle(1000).batch(32), epochs=100, batch_size=32,\n",
        "          validation_data=val_dataset.shuffle(1000).batch(32))"
      ],
      "metadata": {
        "id": "_DYOXBKHjIdU"
      },
      "execution_count": null,
      "outputs": []
    },
    {
      "cell_type": "markdown",
      "source": [
        "#### Evaluating Our Model\n",
        "\n",
        "Here we had to write a for loop to traverse through each test pair, because Bert doesn't have a nice report like sklearn. From there we take the output and increment whether it was a true positive, false positive, false negative, or true negative. From those we can call our print_metrics() function which will calculate and print the confusion matrix, accuracy, sensativity, and specificity."
      ],
      "metadata": {
        "id": "Sfs7oRmYiOBU"
      }
    },
    {
      "cell_type": "code",
      "source": [
        "# This evaluates our model by for every test input\n",
        "# From each it will calculate the true positive, false positive, false negative, and true negative\n",
        "# We will use these to calculate the accuracy, confusion matrix, specificity, and sensativity of our model\n",
        "tp, fp, fn, tn = 0\n",
        "for test_data in zip(X_test, y_test):\n",
        "  predict_input = loaded_tokenizer.encode(test_data[0],\n",
        "                                          truncation=True,\n",
        "                                          padding=True,\n",
        "                                          return_tensors=\"tf\")\n",
        "  output = loaded_model(predict_input)[0]\n",
        "  if output >= .5:\n",
        "    predicted = 1\n",
        "  else: \n",
        "    predicted = 0\n",
        "\n",
        "  if predicted == test_data[1] and predicted == 1:\n",
        "    tp += 1\n",
        "  elif predicted != test_data[1] and predicted == 1:\n",
        "    fp += 1\n",
        "  elif predicted == test_data[1] and predicted == 0:\n",
        "    tn += 1\n",
        "  else:\n",
        "    fn += 1\n",
        "  \n",
        "def print_metrics(tp, fp, fn, tn):\n",
        "  # Prints the confusion matrix\n",
        "  print(\"\\nConfusion Matrix:\\n\")\n",
        "  print(tp + \"\\t\" + fp + '\\n' + fn + '\\t' + tn)\n",
        "  print(\"\\nAccuracy: \", (tp+tn)/(tp+fp+fn+tn))\n",
        "  print(\"Sensativity: \", tp/(tp+fn))\n",
        "  print(\"Specificity: \", tn/(fp+tn))\n",
        "\n",
        "# Print out our evaluation metrics\n",
        "print_metrics(tp, fp, fn, tn)\n"
      ],
      "metadata": {
        "id": "YN8zePQRkZ8v"
      },
      "execution_count": null,
      "outputs": []
    },
    {
      "cell_type": "markdown",
      "source": [
        "### JobClassifier\n",
        "\n",
        "Next we will try JobClassifier. We have to load the transformers and tokenizers used by JobClassifier. We also loaded the model and the optimizer."
      ],
      "metadata": {
        "id": "7m6rXDiCjbFj"
      }
    },
    {
      "cell_type": "code",
      "source": [
        "# Import the transformers and setup our model and tokenizer\n",
        "from transformers import AutoTokenizer, AutoModelForSequenceClassification\n",
        "# Setup our tokenizer\n",
        "tokenizer = AutoTokenizer.from_pretrained(\"CleveGreen/JobClassifier_v3_gpt\"\n",
        "# Setup our model\n",
        "model = AutoModelForSequenceClassification.from_pretrained(\"CleveGreen/JobClassifier_v3_gpt\")\n",
        "# Optimizer\n",
        "optimizer = tf.keras.optimizers.Adam(learning_rate=5e-5)\n",
        "# Compile our model\n",
        "model.compile(optimizer=optimizer, loss=model.hf_comput_loss, metrics=['accuracy'])"
      ],
      "metadata": {
        "id": "vNYYMEVRknto"
      },
      "execution_count": null,
      "outputs": []
    },
    {
      "cell_type": "markdown",
      "source": [
        "#### Prepping Our Data\n",
        "\n",
        "We have to prep our data for JobClassifier specifically using it's tokenizers and convert them into the Tensorflow Dataset Objects. Just like we did for Distilbert."
      ],
      "metadata": {
        "id": "38clnIl2k8ZU"
      }
    },
    {
      "cell_type": "code",
      "source": [
        "# Tokenizing and Encoding our input text\n",
        "train_encodings = tokenizer(X_train, truncation=True, padding=True)\n",
        "val_encodings = tokenizer(X_val, truncation=True, padding=True)\n",
        "\n",
        "# Creating our Tensorflow Dataset Objects\n",
        "train_dataset = tf.data.Dataset.from_tensor_slices((\n",
        "    dict(train_encodings),\n",
        "    train_cats\n",
        "))\n",
        "val_dataset = tf.data.Dataset.from_tensor_slices((\n",
        "    dict(val_encodings),\n",
        "    val_cats\n",
        "))"
      ],
      "metadata": {
        "id": "8ewFk6sYlIj8"
      },
      "execution_count": null,
      "outputs": []
    },
    {
      "cell_type": "markdown",
      "source": [
        "#### Training and Fine Tuning the Model\n",
        "\n",
        "Here we use fit just like before to fine tune the model to our data set for classifying fake and real jobs. Just like we did before."
      ],
      "metadata": {
        "id": "z1_eF82rlYnZ"
      }
    },
    {
      "cell_type": "code",
      "source": [
        "model.fit(train_dataset.shuffle(1000).batch(32), epochs=100, batch_size=32,\n",
        "          validation_data=val_dataset.shuffle(1000).batch(32))"
      ],
      "metadata": {
        "id": "MiDQoGcIlaui"
      },
      "execution_count": null,
      "outputs": []
    },
    {
      "cell_type": "markdown",
      "source": [
        "#### Evaluating Our Model\n",
        "\n",
        "Here we had to write a for loop to traverse through each test pair, because Bert doesn't have a nice report like sklearn. From there we take the output and increment whether it was a true positive, false positive, false negative, or true negative. From those we can call our print_metrics() function which will calculate and print the confusion matrix, accuracy, sensativity, and specificity."
      ],
      "metadata": {
        "id": "2aOqPLATlg90"
      }
    },
    {
      "cell_type": "code",
      "source": [
        "# This evaluates our model by for every test input\n",
        "# From each it will calculate the true positive, false positive, false negative, and true negative\n",
        "# We will use these to calculate the accuracy, confusion matrix, specificity, and sensativity of our model\n",
        "tp, fp, fn, tn = 0\n",
        "for test_data in zip(X_test, y_test):\n",
        "  predict_input = loaded_tokenizer.encode(test_data[0],\n",
        "                                          truncation=True,\n",
        "                                          padding=True,\n",
        "                                          return_tensors=\"tf\")\n",
        "  output = loaded_model(predict_input)[0]\n",
        "  if output >= .5:\n",
        "    predicted = 1\n",
        "  else: \n",
        "    predicted = 0\n",
        "\n",
        "  if predicted == test_data[1] and predicted == 1:\n",
        "    tp += 1\n",
        "  elif predicted != test_data[1] and predicted == 1:\n",
        "    fp += 1\n",
        "  elif predicted == test_data[1] and predicted == 0:\n",
        "    tn += 1\n",
        "  else:\n",
        "    fn += 1\n",
        "  \n",
        "def print_metrics(tp, fp, fn, tn):\n",
        "  # Prints the confusion matrix\n",
        "  print(\"\\nConfusion Matrix:\\n\")\n",
        "  print(tp + \"\\t\" + fp + '\\n' + fn + '\\t' + tn)\n",
        "  print(\"\\nAccuracy: \", (tp+tn)/(tp+fp+fn+tn))\n",
        "  print(\"Sensativity: \", tp/(tp+fn))\n",
        "  print(\"Specificity: \", tn/(fp+tn))\n",
        "\n",
        "# Print out our evaluation metrics\n",
        "print_metrics(tp, fp, fn, tn)\n"
      ],
      "metadata": {
        "id": "UenDQsO6lhuR"
      },
      "execution_count": null,
      "outputs": []
    },
    {
      "cell_type": "markdown",
      "source": [
        "### Job-Description-Classifier\n",
        "\n",
        "Finally we will try Job-Description-Classifier. We have to load the transformers and tokenizers used by Job-Description-Classifier. We also loaded the model and the optimizer."
      ],
      "metadata": {
        "id": "jQQOaJi4l8AS"
      }
    },
    {
      "cell_type": "code",
      "source": [
        "# Import the transformers and setup our model and tokenizer\n",
        "from transformers import AutoTokenizer, AutoModelForTokenClassification\n",
        "# Setup our tokenizer\n",
        "tokenizer = AutoTokenizer.from_pretrained(\"tkuye/job-description-classifier\")\n",
        "# Setup our model\n",
        "model = AutoModelForSequenceClassification.from_pretrained(\"tkuye/job-description-classifier\")\n",
        "# Optimizer\n",
        "optimizer = tf.keras.optimizers.Adam(learning_rate=5e-5)\n",
        "# Compile our model\n",
        "model.compile(optimizer=optimizer, loss=model.hf_comput_loss, metrics=['accuracy'])"
      ],
      "metadata": {
        "id": "2tyXN_2-mO0m"
      },
      "execution_count": null,
      "outputs": []
    },
    {
      "cell_type": "markdown",
      "source": [
        "#### Prepping Our Data\n",
        "\n",
        "We have to prep our data for Job-Description-Classifier specifically using it's tokenizers and convert them into the Tensorflow Dataset Objects. Just like we did for Distilbert and JobClassifier."
      ],
      "metadata": {
        "id": "OP340AN0oFCN"
      }
    },
    {
      "cell_type": "code",
      "source": [
        "# Tokenizing and Encoding our input text\n",
        "train_encodings = tokenizer(X_train, truncation=True, padding=True)\n",
        "val_encodings = tokenizer(X_val, truncation=True, padding=True)\n",
        "\n",
        "# Creating our Tensorflow Dataset Objects\n",
        "train_dataset = tf.data.Dataset.from_tensor_slices((\n",
        "    dict(train_encodings),\n",
        "    train_cats\n",
        "))\n",
        "val_dataset = tf.data.Dataset.from_tensor_slices((\n",
        "    dict(val_encodings),\n",
        "    val_cats\n",
        "))"
      ],
      "metadata": {
        "id": "M4qrhh8colM1"
      },
      "execution_count": null,
      "outputs": []
    },
    {
      "cell_type": "markdown",
      "source": [
        "#### Training and Fine Tuning the Model\n",
        "\n",
        "Here we use fit just like before to fine tune the model to our data set for classifying fake and real jobs. Just like we did before."
      ],
      "metadata": {
        "id": "sJwvVlkzpaN9"
      }
    },
    {
      "cell_type": "code",
      "source": [
        "model.fit(train_dataset.shuffle(1000).batch(32), epochs=100, batch_size=32,\n",
        "          validation_data=val_dataset.shuffle(1000).batch(32))"
      ],
      "metadata": {
        "id": "qz_F_ZxGpe8d"
      },
      "execution_count": null,
      "outputs": []
    },
    {
      "cell_type": "markdown",
      "source": [
        "#### Evaluating Our Model\n",
        "\n",
        "Here we had to write a for loop to traverse through each test pair, because Bert doesn't have a nice report like sklearn. From there we take the output and increment whether it was a true positive, false positive, false negative, or true negative. From those we can call our print_metrics() function which will calculate and print the confusion matrix, accuracy, sensativity, and specificity."
      ],
      "metadata": {
        "id": "yJVXmLVQpjYE"
      }
    },
    {
      "cell_type": "code",
      "source": [
        "# This evaluates our model by for every test input\n",
        "# From each it will calculate the true positive, false positive, false negative, and true negative\n",
        "# We will use these to calculate the accuracy, confusion matrix, specificity, and sensativity of our model\n",
        "tp, fp, fn, tn = 0\n",
        "for test_data in zip(X_test, y_test):\n",
        "  predict_input = loaded_tokenizer.encode(test_data[0],\n",
        "                                          truncation=True,\n",
        "                                          padding=True,\n",
        "                                          return_tensors=\"tf\")\n",
        "  output = loaded_model(predict_input)[0]\n",
        "  if output >= .5:\n",
        "    predicted = 1\n",
        "  else: \n",
        "    predicted = 0\n",
        "\n",
        "  if predicted == test_data[1] and predicted == 1:\n",
        "    tp += 1\n",
        "  elif predicted != test_data[1] and predicted == 1:\n",
        "    fp += 1\n",
        "  elif predicted == test_data[1] and predicted == 0:\n",
        "    tn += 1\n",
        "  else:\n",
        "    fn += 1\n",
        "  \n",
        "def print_metrics(tp, fp, fn, tn):\n",
        "  # Prints the confusion matrix\n",
        "  print(\"\\nConfusion Matrix:\\n\")\n",
        "  print(tp + \"\\t\" + fp + '\\n' + fn + '\\t' + tn)\n",
        "  print(\"\\nAccuracy: \", (tp+tn)/(tp+fp+fn+tn))\n",
        "  print(\"Sensativity: \", tp/(tp+fn))\n",
        "  print(\"Specificity: \", tn/(fp+tn))\n",
        "\n",
        "# Print out our evaluation metrics\n",
        "print_metrics(tp, fp, fn, tn)"
      ],
      "metadata": {
        "id": "QNbyW3i2pp8_"
      },
      "execution_count": null,
      "outputs": []
    },
    {
      "cell_type": "code",
      "source": [
        "# Analyze Perfomance of all"
      ],
      "metadata": {
        "id": "eWPLVJxzwrFj"
      },
      "execution_count": null,
      "outputs": []
    }
  ]
}